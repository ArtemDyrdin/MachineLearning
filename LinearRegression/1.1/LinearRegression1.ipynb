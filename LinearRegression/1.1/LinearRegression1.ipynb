{
 "cells": [
  {
   "cell_type": "code",
   "execution_count": 2,
   "id": "8d5a2470-e12b-4802-928b-80b953d0c177",
   "metadata": {},
   "outputs": [],
   "source": [
    "import matplotlib.pyplot as plt\n",
    "import matplotlib.patches as patches\n",
    "import pandas as pd\n",
    "import numpy as np"
   ]
  },
  {
   "cell_type": "markdown",
   "id": "395d8236-1f91-4ed0-a3cb-60b52241370e",
   "metadata": {},
   "source": [
    "1. Чтение данных из файла"
   ]
  },
  {
   "cell_type": "code",
   "execution_count": 3,
   "id": "abc72ace-dbe9-4e34-a1c6-7df1f521d571",
   "metadata": {},
   "outputs": [
    {
     "data": {
      "text/html": [
       "<div>\n",
       "<style scoped>\n",
       "    .dataframe tbody tr th:only-of-type {\n",
       "        vertical-align: middle;\n",
       "    }\n",
       "\n",
       "    .dataframe tbody tr th {\n",
       "        vertical-align: top;\n",
       "    }\n",
       "\n",
       "    .dataframe thead th {\n",
       "        text-align: right;\n",
       "    }\n",
       "</style>\n",
       "<table border=\"1\" class=\"dataframe\">\n",
       "  <thead>\n",
       "    <tr style=\"text-align: right;\">\n",
       "      <th></th>\n",
       "      <th>Hours</th>\n",
       "      <th>Scores</th>\n",
       "    </tr>\n",
       "  </thead>\n",
       "  <tbody>\n",
       "    <tr>\n",
       "      <th>0</th>\n",
       "      <td>2.5</td>\n",
       "      <td>21</td>\n",
       "    </tr>\n",
       "    <tr>\n",
       "      <th>1</th>\n",
       "      <td>5.1</td>\n",
       "      <td>47</td>\n",
       "    </tr>\n",
       "    <tr>\n",
       "      <th>2</th>\n",
       "      <td>3.2</td>\n",
       "      <td>27</td>\n",
       "    </tr>\n",
       "    <tr>\n",
       "      <th>3</th>\n",
       "      <td>8.5</td>\n",
       "      <td>75</td>\n",
       "    </tr>\n",
       "    <tr>\n",
       "      <th>4</th>\n",
       "      <td>3.5</td>\n",
       "      <td>30</td>\n",
       "    </tr>\n",
       "  </tbody>\n",
       "</table>\n",
       "</div>"
      ],
      "text/plain": [
       "   Hours  Scores\n",
       "0    2.5      21\n",
       "1    5.1      47\n",
       "2    3.2      27\n",
       "3    8.5      75\n",
       "4    3.5      30"
      ]
     },
     "execution_count": 3,
     "metadata": {},
     "output_type": "execute_result"
    }
   ],
   "source": [
    "student_scores = pd.read_csv('data/student_scores.csv', sep=',')\n",
    "student_scores.head()"
   ]
  },
  {
   "cell_type": "markdown",
   "id": "588b517d-286b-4a9f-942e-b554d864dfc6",
   "metadata": {},
   "source": [
    "2. Статистическая информация о используемых данных (количество, min, max, среднее) по каждому из столбцов"
   ]
  },
  {
   "cell_type": "code",
   "execution_count": 4,
   "id": "663d8eb2-bf5f-4745-860b-fda39b2a7eb3",
   "metadata": {},
   "outputs": [
    {
     "data": {
      "text/html": [
       "<div>\n",
       "<style scoped>\n",
       "    .dataframe tbody tr th:only-of-type {\n",
       "        vertical-align: middle;\n",
       "    }\n",
       "\n",
       "    .dataframe tbody tr th {\n",
       "        vertical-align: top;\n",
       "    }\n",
       "\n",
       "    .dataframe thead th {\n",
       "        text-align: right;\n",
       "    }\n",
       "</style>\n",
       "<table border=\"1\" class=\"dataframe\">\n",
       "  <thead>\n",
       "    <tr style=\"text-align: right;\">\n",
       "      <th></th>\n",
       "      <th>Hours</th>\n",
       "      <th>Scores</th>\n",
       "    </tr>\n",
       "  </thead>\n",
       "  <tbody>\n",
       "    <tr>\n",
       "      <th>count</th>\n",
       "      <td>25.000</td>\n",
       "      <td>25.00</td>\n",
       "    </tr>\n",
       "    <tr>\n",
       "      <th>min</th>\n",
       "      <td>1.100</td>\n",
       "      <td>17.00</td>\n",
       "    </tr>\n",
       "    <tr>\n",
       "      <th>max</th>\n",
       "      <td>9.200</td>\n",
       "      <td>95.00</td>\n",
       "    </tr>\n",
       "    <tr>\n",
       "      <th>mean</th>\n",
       "      <td>5.012</td>\n",
       "      <td>51.48</td>\n",
       "    </tr>\n",
       "  </tbody>\n",
       "</table>\n",
       "</div>"
      ],
      "text/plain": [
       "        Hours  Scores\n",
       "count  25.000   25.00\n",
       "min     1.100   17.00\n",
       "max     9.200   95.00\n",
       "mean    5.012   51.48"
      ]
     },
     "execution_count": 4,
     "metadata": {},
     "output_type": "execute_result"
    }
   ],
   "source": [
    "student_scores.describe().loc[['count', 'min', 'max', 'mean']]"
   ]
  },
  {
   "cell_type": "markdown",
   "id": "c7b079bc-1c3e-46c3-ac65-e26437694de2",
   "metadata": {},
   "source": [
    "4. Вычисление параметров регрессионной прямой методом наименьших квадратов\n",
    "\n",
    "   Регрессия имеет вид\n",
    "   \n",
    "   $ f(x) = \\omega_0 + \\omega_1 x $\n",
    "\n",
    "   Задача: найти такие $ \\omega_0 $ и $ \\omega_1 $, что функция MSE\n",
    "\n",
    "   $ MSE = \\frac{1}{n} \\sum_{i=0}^{n} (y_i - f(x_i))^2 $ или $ MSE = \\frac{1}{n} \\sum_{i=0}^{n} (y_i - \\omega_0 - \\omega_1 x)^2 $\n",
    "   \n",
    "   (среднеквадратическая ошибка) будет принимать наименьшее значение.\n",
    "\n",
    "   Находя минимумы по  $ \\omega_0 $ и $ \\omega_1 $ и решая полученную систему получим точное решение:\n",
    "   $$ \\omega_1 = \\frac{\\frac{\\sum_{i=0}^{n} x_i \\sum_{i=0}^{n} y_i}{n} - \\sum_{i=0}^{n}(y_i * x_i)}{\\frac{(\\sum_{i=0}^{n} x_i)^2}{n} - \\sum_{i=0}^{n} x_i^2} $$\n",
    "   $$ \\omega_0 = \\frac{1}{n}(\\sum_{i=0}^{n} y_i - \\omega_1 * \\sum_{i=0}^{n} x_i) $$"
   ]
  },
  {
   "cell_type": "code",
   "execution_count": 5,
   "id": "41e3da87-df63-4c80-b124-46011afc553b",
   "metadata": {},
   "outputs": [],
   "source": [
    "x = student_scores.Hours\n",
    "y = student_scores.Scores\n",
    "n = x.size"
   ]
  },
  {
   "cell_type": "markdown",
   "id": "cb08ba83-1e00-40b5-9cba-12e66423721c",
   "metadata": {},
   "source": [
    "Параметры регрессионной прямой:"
   ]
  },
  {
   "cell_type": "code",
   "execution_count": 6,
   "id": "0b122d4d-bb30-4bef-8bd9-d79469d2d446",
   "metadata": {},
   "outputs": [
    {
     "name": "stdout",
     "output_type": "stream",
     "text": [
      "y = 2.483673405373247 + 9.77580339078746x\n"
     ]
    }
   ],
   "source": [
    "w1 = (x.sum() * y.sum() / n - np.dot(x, y))/(((x.sum())**2)/n - (x**2).sum())\n",
    "w0 = 1/n * (y.sum() - w1 * x.sum())\n",
    "print(f'y = {w0} + {w1}x')"
   ]
  },
  {
   "cell_type": "code",
   "execution_count": 10,
   "id": "fdee0319-be6d-44cb-85a7-8e5896f568ab",
   "metadata": {},
   "outputs": [],
   "source": [
    "def get_y_regr(x):\n",
    "    return w0 + w1*x\n",
    "y_regr = get_y_regr(x)"
   ]
  },
  {
   "cell_type": "code",
   "execution_count": 29,
   "id": "d86135b0-4e5c-4013-aacc-6e0570ff3278",
   "metadata": {},
   "outputs": [
    {
     "data": {
      "text/plain": [
       "[<matplotlib.lines.Line2D at 0x27cda741ee0>]"
      ]
     },
     "execution_count": 29,
     "metadata": {},
     "output_type": "execute_result"
    },
    {
     "data": {
      "image/png": "[encoded data removed]",
      "text/plain": [
       "<Figure size 640x480 with 2 Axes>"
      ]
     },
     "metadata": {},
     "output_type": "display_data"
    }
   ],
   "source": [
    "fig, (ax1, ax2) = plt.subplots(2)\n",
    "fig.suptitle('Реализация алгоритма линейной регрессии')\n",
    "ax1.scatter(student_scores.Hours, student_scores.Scores)\n",
    "\n",
    "ax2.scatter(student_scores.Hours, student_scores.Scores)\n",
    "ax2.plot(x, y_regr, 'r')"
   ]
  },
  {
   "cell_type": "code",
   "execution_count": 43,
   "id": "8a6fe8bc-a823-4ef4-b218-2a3688d16056",
   "metadata": {},
   "outputs": [
    {
     "data": {
      "image/png": "[encoded data removed]",
      "text/plain": [
       "<Figure size 640x480 with 1 Axes>"
      ]
     },
     "metadata": {},
     "output_type": "display_data"
    }
   ],
   "source": [
    "fig, (ax3) = plt.subplots(1)\n",
    "\n",
    "fig.suptitle('Квадраты ошибок')\n",
    "\n",
    "ax3.scatter(student_scores.Hours, student_scores.Scores)\n",
    "ax3.plot(x, y_regr, 'r')\n",
    "\n",
    "for i in range(n):\n",
    "    square = patches.Rectangle((student_scores.Hours[i], student_scores.Scores[i]), (get_y_regr(student_scores.Hours[i]) - student_scores.Scores[i])/10, get_y_regr(student_scores.Hours[i]) - student_scores.Scores[i], edgecolor='orange', facecolor='orange', alpha=0.25)\n",
    "    ax3.add_patch(square)"
   ]
  },
  {
   "cell_type": "code",
   "execution_count": null,
   "id": "03988140-285e-42eb-9e21-1f7822eba2bc",
   "metadata": {},
   "outputs": [],
   "source": []
  }
 ],
 "metadata": {
  "kernelspec": {
   "display_name": "Python 3 (ipykernel)",
   "language": "python",
   "name": "python3"
  },
  "language_info": {
   "codemirror_mode": {
    "name": "ipython",
    "version": 3
   },
   "file_extension": ".py",
   "mimetype": "text/x-python",
   "name": "python",
   "nbconvert_exporter": "python",
   "pygments_lexer": "ipython3",
   "version": "3.12.4"
  }
 },
 "nbformat": 4,
 "nbformat_minor": 5
}
