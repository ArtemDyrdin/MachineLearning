{
 "cells": [
  {
   "cell_type": "code",
   "execution_count": 89,
   "id": "8d5a2470-e12b-4802-928b-80b953d0c177",
   "metadata": {},
   "outputs": [],
   "source": [
    "import matplotlib.pyplot as plt\n",
    "import matplotlib.patches as patches\n",
    "import pandas as pd\n",
    "import numpy as np"
   ]
  },
  {
   "cell_type": "markdown",
   "id": "395d8236-1f91-4ed0-a3cb-60b52241370e",
   "metadata": {},
   "source": [
    "1. Чтение данных из файла"
   ]
  },
  {
   "cell_type": "code",
   "execution_count": 31,
   "id": "abc72ace-dbe9-4e34-a1c6-7df1f521d571",
   "metadata": {},
   "outputs": [
    {
     "data": {
      "text/html": [
       "<div>\n",
       "<style scoped>\n",
       "    .dataframe tbody tr th:only-of-type {\n",
       "        vertical-align: middle;\n",
       "    }\n",
       "\n",
       "    .dataframe tbody tr th {\n",
       "        vertical-align: top;\n",
       "    }\n",
       "\n",
       "    .dataframe thead th {\n",
       "        text-align: right;\n",
       "    }\n",
       "</style>\n",
       "<table border=\"1\" class=\"dataframe\">\n",
       "  <thead>\n",
       "    <tr style=\"text-align: right;\">\n",
       "      <th></th>\n",
       "      <th>Hours</th>\n",
       "      <th>Scores</th>\n",
       "    </tr>\n",
       "  </thead>\n",
       "  <tbody>\n",
       "    <tr>\n",
       "      <th>0</th>\n",
       "      <td>2.5</td>\n",
       "      <td>21</td>\n",
       "    </tr>\n",
       "    <tr>\n",
       "      <th>1</th>\n",
       "      <td>5.1</td>\n",
       "      <td>47</td>\n",
       "    </tr>\n",
       "    <tr>\n",
       "      <th>2</th>\n",
       "      <td>3.2</td>\n",
       "      <td>27</td>\n",
       "    </tr>\n",
       "    <tr>\n",
       "      <th>3</th>\n",
       "      <td>8.5</td>\n",
       "      <td>75</td>\n",
       "    </tr>\n",
       "    <tr>\n",
       "      <th>4</th>\n",
       "      <td>3.5</td>\n",
       "      <td>30</td>\n",
       "    </tr>\n",
       "  </tbody>\n",
       "</table>\n",
       "</div>"
      ],
      "text/plain": [
       "   Hours  Scores\n",
       "0    2.5      21\n",
       "1    5.1      47\n",
       "2    3.2      27\n",
       "3    8.5      75\n",
       "4    3.5      30"
      ]
     },
     "execution_count": 31,
     "metadata": {},
     "output_type": "execute_result"
    }
   ],
   "source": [
    "student_scores = pd.read_csv('data/student_scores.csv', sep=',')\n",
    "student_scores.head()"
   ]
  },
  {
   "cell_type": "markdown",
   "id": "588b517d-286b-4a9f-942e-b554d864dfc6",
   "metadata": {},
   "source": [
    "2. Статистическая информация о используемых данных (количество, min, max, среднее) по каждому из столбцов"
   ]
  },
  {
   "cell_type": "code",
   "execution_count": 32,
   "id": "663d8eb2-bf5f-4745-860b-fda39b2a7eb3",
   "metadata": {},
   "outputs": [
    {
     "data": {
      "text/html": [
       "<div>\n",
       "<style scoped>\n",
       "    .dataframe tbody tr th:only-of-type {\n",
       "        vertical-align: middle;\n",
       "    }\n",
       "\n",
       "    .dataframe tbody tr th {\n",
       "        vertical-align: top;\n",
       "    }\n",
       "\n",
       "    .dataframe thead th {\n",
       "        text-align: right;\n",
       "    }\n",
       "</style>\n",
       "<table border=\"1\" class=\"dataframe\">\n",
       "  <thead>\n",
       "    <tr style=\"text-align: right;\">\n",
       "      <th></th>\n",
       "      <th>Hours</th>\n",
       "      <th>Scores</th>\n",
       "    </tr>\n",
       "  </thead>\n",
       "  <tbody>\n",
       "    <tr>\n",
       "      <th>count</th>\n",
       "      <td>25.000</td>\n",
       "      <td>25.00</td>\n",
       "    </tr>\n",
       "    <tr>\n",
       "      <th>min</th>\n",
       "      <td>1.100</td>\n",
       "      <td>17.00</td>\n",
       "    </tr>\n",
       "    <tr>\n",
       "      <th>max</th>\n",
       "      <td>9.200</td>\n",
       "      <td>95.00</td>\n",
       "    </tr>\n",
       "    <tr>\n",
       "      <th>mean</th>\n",
       "      <td>5.012</td>\n",
       "      <td>51.48</td>\n",
       "    </tr>\n",
       "  </tbody>\n",
       "</table>\n",
       "</div>"
      ],
      "text/plain": [
       "        Hours  Scores\n",
       "count  25.000   25.00\n",
       "min     1.100   17.00\n",
       "max     9.200   95.00\n",
       "mean    5.012   51.48"
      ]
     },
     "execution_count": 32,
     "metadata": {},
     "output_type": "execute_result"
    }
   ],
   "source": [
    "student_scores.describe().loc[['count', 'min', 'max', 'mean']]"
   ]
  },
  {
   "cell_type": "markdown",
   "id": "c7b079bc-1c3e-46c3-ac65-e26437694de2",
   "metadata": {},
   "source": [
    "4. Вычисление параметров регрессионной прямой методом наименьших квадратов\n",
    "\n",
    "   Регрессия имеет вид\n",
    "   \n",
    "   $ f(x) = \\omega_0 + \\omega_1 x $\n",
    "\n",
    "   Задача: найти такие $ \\omega_0 $ и $ \\omega_1 $, что функция MSE\n",
    "\n",
    "   $ MSE = \\frac{1}{n} \\sum_{i=0}^{n} (y_i - f(x_i)) $ или $ MSE = \\frac{1}{n} \\sum_{i=0}^{n} (y_i - \\omega_0 - \\omega_1 x) $\n",
    "   \n",
    "   (среднеквадратическая ошибка) будет принимать наименьшее значение.\n",
    "\n",
    "   Находя минимумы по  $ \\omega_0 $ и $ \\omega_1 $ и решая полученную систему получим точное решение:\n",
    "   $$ \\omega_1 = \\frac{\\frac{\\sum_{i=0}^{n} x_i \\sum_{i=0}^{n} y_i}{n} - \\sum_{i=0}^{n}(y_i * x_i)}{\\frac{(\\sum_{i=0}^{n} x_i)^2}{n} - \\sum_{i=0}^{n} x_i^2} $$\n",
    "   $$ \\omega_0 = \\frac{1}{n}(\\sum_{i=0}^{n} y_i - \\omega_1 * \\sum_{i=0}^{n} x_i) $$"
   ]
  },
  {
   "cell_type": "code",
   "execution_count": 73,
   "id": "41e3da87-df63-4c80-b124-46011afc553b",
   "metadata": {},
   "outputs": [],
   "source": [
    "x = student_scores.Hours\n",
    "y = student_scores.Scores\n",
    "n = x.size"
   ]
  },
  {
   "cell_type": "code",
   "execution_count": 74,
   "id": "0b122d4d-bb30-4bef-8bd9-d79469d2d446",
   "metadata": {},
   "outputs": [],
   "source": [
    "w1 = (x.sum() * y.sum() / n - np.dot(x, y))/(((x.sum())**2)/n - (x**2).sum())\n",
    "w0 = 1/n * (y.sum() - w1 * x.sum())"
   ]
  },
  {
   "cell_type": "code",
   "execution_count": 85,
   "id": "1110760f-95dd-4d13-9249-36e246115c67",
   "metadata": {},
   "outputs": [],
   "source": [
    "def get_regr_y(x):\n",
    "    return w0 + w1*regression_x\n",
    "def get_regr_x(y):\n",
    "    return (y - w0)/w1"
   ]
  },
  {
   "cell_type": "code",
   "execution_count": 86,
   "id": "7b2badf6-9dd5-4532-9b94-a2fe15956f50",
   "metadata": {},
   "outputs": [],
   "source": [
    "x_regr = np.linspace(x.min(), x.max(), 2)\n",
    "y_regr = get_regr_y(x_regr)"
   ]
  },
  {
   "cell_type": "code",
   "execution_count": 114,
   "id": "d86135b0-4e5c-4013-aacc-6e0570ff3278",
   "metadata": {},
   "outputs": [
    {
     "data": {
      "text/plain": [
       "<matplotlib.patches.Rectangle at 0x267d8348cb0>"
      ]
     },
     "execution_count": 114,
     "metadata": {},
     "output_type": "execute_result"
    },
    {
     "data": {
      "image/png": "[encoded data removed]",
      "text/plain": [
       "<Figure size 640x480 with 3 Axes>"
      ]
     },
     "metadata": {},
     "output_type": "display_data"
    }
   ],
   "source": [
    "fig, (ax1, ax2, ax3) = plt.subplots(3)\n",
    "fig.suptitle('Реализация алгоритма линейной регрессии')\n",
    "ax1.scatter(student_scores.Hours, student_scores.Scores)\n",
    "\n",
    "ax2.scatter(student_scores.Hours, student_scores.Scores)\n",
    "ax2.plot(x_regr, y_regr, 'r')\n",
    "\n",
    "ax3.scatter(student_scores.Hours, student_scores.Scores)\n",
    "ax3.plot(x_regr, y_regr, 'r')\n",
    "# ax3.add_patch(patches.Rectangle((student_scores.iloc[10][0], get_regr_y(student_scores.iloc[10][0])), get_regr_x(student_scores.iloc[10][1]), student_scores.iloc[10][1], edgecolor='orange', facecolor='none'))\n",
    "ax3.add_patch(patches.Rectangle((3, 3), 5, 5, edgecolor='orange', facecolor='none'))\n",
    "\n",
    "# for i in range(n):\n",
    "#     ax3.add_patch(patches.Rectangle((student_scores.iloc[i][0], get_regr_y(student_scores.iloc[i][0])), get_regr_x(student_scores.iloc[i][1]), student_scores.iloc[i][1], edgecolor='orange', facecolor='none'))"
   ]
  },
  {
   "cell_type": "code",
   "execution_count": null,
   "id": "8a6fe8bc-a823-4ef4-b218-2a3688d16056",
   "metadata": {},
   "outputs": [],
   "source": []
  },
  {
   "cell_type": "code",
   "execution_count": 60,
   "id": "4ff993b6-fb70-4697-ab05-81781e5ea446",
   "metadata": {},
   "outputs": [
    {
     "name": "stdin",
     "output_type": "stream",
     "text": [
      "Введите \"1\" => ось X - Hours, \"0\" => ось X - Scores:  0\n"
     ]
    },
    {
     "data": {
      "image/png": "[encoded data removed]",
      "text/plain": [
       "<Figure size 640x480 with 1 Axes>"
      ]
     },
     "metadata": {},
     "output_type": "display_data"
    }
   ],
   "source": [
    "x = bool(input('Введите \"1\" => ось X - Hours, \"0\" => ось X - Scores: '))\n",
    "if x:\n",
    "    plt.xlabel(student_scores.columns[0])\n",
    "    plt.xlabel(student_scores.columns[1])\n",
    "    plt.scatter(student_scores.Hours, student_scores.Scores)\n",
    "else:\n",
    "    plt.xlabel(student_scores.columns[1])\n",
    "    plt.xlabel(student_scores.columns[0])\n",
    "    plt.scatter(student_scores.Scores, student_scores.Hours)"
   ]
  },
  {
   "cell_type": "code",
   "execution_count": 100,
   "id": "7e85c89b-055d-43bc-8b76-377a5c610a74",
   "metadata": {},
   "outputs": [
    {
     "name": "stdout",
     "output_type": "stream",
     "text": [
      "21.0\n",
      "47.0\n",
      "27.0\n",
      "75.0\n",
      "30.0\n",
      "20.0\n",
      "88.0\n",
      "60.0\n",
      "81.0\n",
      "25.0\n",
      "85.0\n",
      "62.0\n",
      "41.0\n",
      "42.0\n",
      "17.0\n",
      "95.0\n",
      "30.0\n",
      "24.0\n",
      "67.0\n",
      "69.0\n",
      "30.0\n",
      "54.0\n",
      "35.0\n",
      "76.0\n",
      "86.0\n"
     ]
    },
    {
     "name": "stderr",
     "output_type": "stream",
     "text": [
      "C:\\Users\\PAVILION\\AppData\\Local\\Temp\\ipykernel_13372\\2790470491.py:2: FutureWarning: Series.__getitem__ treating keys as positions is deprecated. In a future version, integer keys will always be treated as labels (consistent with DataFrame behavior). To access a value by position, use `ser.iloc[pos]`\n",
      "  print(student_scores.iloc[a][1])\n"
     ]
    }
   ],
   "source": [
    "for a in range(n):\n",
    "    print(student_scores.iloc[a][1])"
   ]
  },
  {
   "cell_type": "code",
   "execution_count": null,
   "id": "4746234c-f301-4e3e-b8d6-0e0173f68311",
   "metadata": {},
   "outputs": [],
   "source": []
  }
 ],
 "metadata": {
  "kernelspec": {
   "display_name": "Python 3 (ipykernel)",
   "language": "python",
   "name": "python3"
  },
  "language_info": {
   "codemirror_mode": {
    "name": "ipython",
    "version": 3
   },
   "file_extension": ".py",
   "mimetype": "text/x-python",
   "name": "python",
   "nbconvert_exporter": "python",
   "pygments_lexer": "ipython3",
   "version": "3.12.4"
  }
 },
 "nbformat": 4,
 "nbformat_minor": 5
}
